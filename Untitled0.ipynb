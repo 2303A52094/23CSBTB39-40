{
  "nbformat": 4,
  "nbformat_minor": 0,
  "metadata": {
    "colab": {
      "provenance": [],
      "authorship_tag": "ABX9TyP70tIpotztGOoGuCvv9EIi",
      "include_colab_link": true
    },
    "kernelspec": {
      "name": "python3",
      "display_name": "Python 3"
    },
    "language_info": {
      "name": "python"
    }
  },
  "cells": [
    {
      "cell_type": "markdown",
      "metadata": {
        "id": "view-in-github",
        "colab_type": "text"
      },
      "source": [
        "<a href=\"https://colab.research.google.com/github/2303A52094/23CSBTB39-40/blob/main/Untitled0.ipynb\" target=\"_parent\"><img src=\"https://colab.research.google.com/assets/colab-badge.svg\" alt=\"Open In Colab\"/></a>"
      ]
    },
    {
      "cell_type": "code",
      "execution_count": 6,
      "metadata": {
        "colab": {
          "base_uri": "https://localhost:8080/"
        },
        "id": "CtbMfyxQCtmT",
        "outputId": "22968f20-2f37-48e9-a9dc-27f5a848b81b"
      },
      "outputs": [
        {
          "output_type": "stream",
          "name": "stdout",
          "text": [
            "[1, 2, 3, 4, 5]\n",
            "<class 'list'>\n",
            "['apple', 'banana', 'orange']\n",
            "<class 'list'>\n",
            "[1 2 3 4 5]\n",
            "<class 'numpy.ndarray'>\n",
            "['apple' 'banana' 'orange']\n",
            "<class 'numpy.ndarray'>\n",
            "ADDITION OF LISTS: [1, 2, 3, 4, 5, 'apple', 'banana', 'orange']\n",
            "('moniter', 'mouse', 'keyboard')\n",
            "<class 'tuple'>\n",
            "(100, 200, 300)\n",
            "<class 'tuple'>\n"
          ]
        }
      ],
      "source": [
        "import numpy as np\n",
        "list1=[1,2,3,4,5]\n",
        "print(list1)\n",
        "print(type(list1))\n",
        "list2=[\"apple\",\"banana\",\"orange\"]\n",
        "print(list2)\n",
        "print(type(list2))\n",
        "arr=np.array(list1)\n",
        "print(arr)\n",
        "print(type(arr))\n",
        "arr1=np.array(list2)\n",
        "print(arr1)\n",
        "print(type(arr1))\n",
        "Add=list1+list2\n",
        "print(\"ADDITION OF LISTS:\",Add)\n",
        "tuple1=(\"moniter\",\"mouse\",\"keyboard\")\n",
        "print(tuple1)\n",
        "print(type(tuple1))\n",
        "tuple2=(100,200,300)\n",
        "print(tuple2)\n",
        "print(type(tuple2))\n",
        "\n"
      ]
    }
  ]
}